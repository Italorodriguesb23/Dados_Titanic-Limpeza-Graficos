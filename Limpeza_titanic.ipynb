{
 "cells": [
  {
   "cell_type": "code",
   "execution_count": 4,
   "id": "4235dc76-5a6c-4796-9e50-7e88d0c4f3ef",
   "metadata": {},
   "outputs": [],
   "source": [
    "import pandas as pd\n",
    "import seaborn as srn\n",
    "import statistics as sts\n",
    "import numpy as np\n",
    "import matplotlib.pyplot as plt"
   ]
  },
  {
   "cell_type": "code",
   "execution_count": 8,
   "id": "c495038c-6a60-4692-9474-586b44f979ee",
   "metadata": {},
   "outputs": [],
   "source": [
    "titanic = pd.read_csv(\"train.csv\")"
   ]
  },
  {
   "cell_type": "code",
   "execution_count": 16,
   "id": "bf43fee5-d563-4cb3-9c0e-31869d692bde",
   "metadata": {},
   "outputs": [
    {
     "data": {
      "text/plain": [
       "(891, 12)"
      ]
     },
     "execution_count": 16,
     "metadata": {},
     "output_type": "execute_result"
    }
   ],
   "source": [
    "titanic.shape"
   ]
  },
  {
   "cell_type": "code",
   "execution_count": 20,
   "id": "e9a6a833-cd10-4d20-b116-6196f5239a58",
   "metadata": {},
   "outputs": [
    {
     "data": {
      "text/html": [
       "<div>\n",
       "<style scoped>\n",
       "    .dataframe tbody tr th:only-of-type {\n",
       "        vertical-align: middle;\n",
       "    }\n",
       "\n",
       "    .dataframe tbody tr th {\n",
       "        vertical-align: top;\n",
       "    }\n",
       "\n",
       "    .dataframe thead th {\n",
       "        text-align: right;\n",
       "    }\n",
       "</style>\n",
       "<table border=\"1\" class=\"dataframe\">\n",
       "  <thead>\n",
       "    <tr style=\"text-align: right;\">\n",
       "      <th></th>\n",
       "      <th>PassengerId</th>\n",
       "      <th>Survived</th>\n",
       "      <th>Pclass</th>\n",
       "      <th>Name</th>\n",
       "      <th>Sex</th>\n",
       "      <th>Age</th>\n",
       "      <th>SibSp</th>\n",
       "      <th>Parch</th>\n",
       "      <th>Ticket</th>\n",
       "      <th>Fare</th>\n",
       "      <th>Cabin</th>\n",
       "      <th>Embarked</th>\n",
       "    </tr>\n",
       "  </thead>\n",
       "  <tbody>\n",
       "    <tr>\n",
       "      <th>0</th>\n",
       "      <td>1</td>\n",
       "      <td>0</td>\n",
       "      <td>3</td>\n",
       "      <td>Braund, Mr. Owen Harris</td>\n",
       "      <td>male</td>\n",
       "      <td>22.0</td>\n",
       "      <td>1</td>\n",
       "      <td>0</td>\n",
       "      <td>A/5 21171</td>\n",
       "      <td>7.2500</td>\n",
       "      <td>NaN</td>\n",
       "      <td>S</td>\n",
       "    </tr>\n",
       "    <tr>\n",
       "      <th>1</th>\n",
       "      <td>2</td>\n",
       "      <td>1</td>\n",
       "      <td>1</td>\n",
       "      <td>Cumings, Mrs. John Bradley (Florence Briggs Th...</td>\n",
       "      <td>female</td>\n",
       "      <td>38.0</td>\n",
       "      <td>1</td>\n",
       "      <td>0</td>\n",
       "      <td>PC 17599</td>\n",
       "      <td>71.2833</td>\n",
       "      <td>C85</td>\n",
       "      <td>C</td>\n",
       "    </tr>\n",
       "    <tr>\n",
       "      <th>2</th>\n",
       "      <td>3</td>\n",
       "      <td>1</td>\n",
       "      <td>3</td>\n",
       "      <td>Heikkinen, Miss. Laina</td>\n",
       "      <td>female</td>\n",
       "      <td>26.0</td>\n",
       "      <td>0</td>\n",
       "      <td>0</td>\n",
       "      <td>STON/O2. 3101282</td>\n",
       "      <td>7.9250</td>\n",
       "      <td>NaN</td>\n",
       "      <td>S</td>\n",
       "    </tr>\n",
       "    <tr>\n",
       "      <th>3</th>\n",
       "      <td>4</td>\n",
       "      <td>1</td>\n",
       "      <td>1</td>\n",
       "      <td>Futrelle, Mrs. Jacques Heath (Lily May Peel)</td>\n",
       "      <td>female</td>\n",
       "      <td>35.0</td>\n",
       "      <td>1</td>\n",
       "      <td>0</td>\n",
       "      <td>113803</td>\n",
       "      <td>53.1000</td>\n",
       "      <td>C123</td>\n",
       "      <td>S</td>\n",
       "    </tr>\n",
       "    <tr>\n",
       "      <th>4</th>\n",
       "      <td>5</td>\n",
       "      <td>0</td>\n",
       "      <td>3</td>\n",
       "      <td>Allen, Mr. William Henry</td>\n",
       "      <td>male</td>\n",
       "      <td>35.0</td>\n",
       "      <td>0</td>\n",
       "      <td>0</td>\n",
       "      <td>373450</td>\n",
       "      <td>8.0500</td>\n",
       "      <td>NaN</td>\n",
       "      <td>S</td>\n",
       "    </tr>\n",
       "  </tbody>\n",
       "</table>\n",
       "</div>"
      ],
      "text/plain": [
       "   PassengerId  Survived  Pclass  \\\n",
       "0            1         0       3   \n",
       "1            2         1       1   \n",
       "2            3         1       3   \n",
       "3            4         1       1   \n",
       "4            5         0       3   \n",
       "\n",
       "                                                Name     Sex   Age  SibSp  \\\n",
       "0                            Braund, Mr. Owen Harris    male  22.0      1   \n",
       "1  Cumings, Mrs. John Bradley (Florence Briggs Th...  female  38.0      1   \n",
       "2                             Heikkinen, Miss. Laina  female  26.0      0   \n",
       "3       Futrelle, Mrs. Jacques Heath (Lily May Peel)  female  35.0      1   \n",
       "4                           Allen, Mr. William Henry    male  35.0      0   \n",
       "\n",
       "   Parch            Ticket     Fare Cabin Embarked  \n",
       "0      0         A/5 21171   7.2500   NaN        S  \n",
       "1      0          PC 17599  71.2833   C85        C  \n",
       "2      0  STON/O2. 3101282   7.9250   NaN        S  \n",
       "3      0            113803  53.1000  C123        S  \n",
       "4      0            373450   8.0500   NaN        S  "
      ]
     },
     "execution_count": 20,
     "metadata": {},
     "output_type": "execute_result"
    }
   ],
   "source": [
    "#Analisando os dados brutos\n",
    "titanic.head()"
   ]
  },
  {
   "cell_type": "code",
   "execution_count": 24,
   "id": "b390fd91-aef2-43da-9f80-54f7774f76b5",
   "metadata": {},
   "outputs": [],
   "source": [
    "#Trocando os nomes\n",
    "titanic.columns=[\"Id_passageiro\",\"Sobreviveu\",\"Classe\",\"Nome\",\"Genero\",\"Idade\",\"SibSp\",\"Parch\",\"Ticket\",\"Tarifa\",\"Cabine\",\"Embarcou\"]"
   ]
  },
  {
   "cell_type": "code",
   "execution_count": 26,
   "id": "f2336a9e-0045-456e-ab14-ca79c54b990e",
   "metadata": {},
   "outputs": [
    {
     "data": {
      "text/html": [
       "<div>\n",
       "<style scoped>\n",
       "    .dataframe tbody tr th:only-of-type {\n",
       "        vertical-align: middle;\n",
       "    }\n",
       "\n",
       "    .dataframe tbody tr th {\n",
       "        vertical-align: top;\n",
       "    }\n",
       "\n",
       "    .dataframe thead th {\n",
       "        text-align: right;\n",
       "    }\n",
       "</style>\n",
       "<table border=\"1\" class=\"dataframe\">\n",
       "  <thead>\n",
       "    <tr style=\"text-align: right;\">\n",
       "      <th></th>\n",
       "      <th>Id_passageiro</th>\n",
       "      <th>Sobreviveu</th>\n",
       "      <th>Classe</th>\n",
       "      <th>Nome</th>\n",
       "      <th>Genero</th>\n",
       "      <th>Idade</th>\n",
       "      <th>SibSp</th>\n",
       "      <th>Parch</th>\n",
       "      <th>Ticket</th>\n",
       "      <th>Tarifa</th>\n",
       "      <th>Cabine</th>\n",
       "      <th>Embarcou</th>\n",
       "    </tr>\n",
       "  </thead>\n",
       "  <tbody>\n",
       "    <tr>\n",
       "      <th>0</th>\n",
       "      <td>1</td>\n",
       "      <td>0</td>\n",
       "      <td>3</td>\n",
       "      <td>Braund, Mr. Owen Harris</td>\n",
       "      <td>male</td>\n",
       "      <td>22.0</td>\n",
       "      <td>1</td>\n",
       "      <td>0</td>\n",
       "      <td>A/5 21171</td>\n",
       "      <td>7.2500</td>\n",
       "      <td>NaN</td>\n",
       "      <td>S</td>\n",
       "    </tr>\n",
       "    <tr>\n",
       "      <th>1</th>\n",
       "      <td>2</td>\n",
       "      <td>1</td>\n",
       "      <td>1</td>\n",
       "      <td>Cumings, Mrs. John Bradley (Florence Briggs Th...</td>\n",
       "      <td>female</td>\n",
       "      <td>38.0</td>\n",
       "      <td>1</td>\n",
       "      <td>0</td>\n",
       "      <td>PC 17599</td>\n",
       "      <td>71.2833</td>\n",
       "      <td>C85</td>\n",
       "      <td>C</td>\n",
       "    </tr>\n",
       "    <tr>\n",
       "      <th>2</th>\n",
       "      <td>3</td>\n",
       "      <td>1</td>\n",
       "      <td>3</td>\n",
       "      <td>Heikkinen, Miss. Laina</td>\n",
       "      <td>female</td>\n",
       "      <td>26.0</td>\n",
       "      <td>0</td>\n",
       "      <td>0</td>\n",
       "      <td>STON/O2. 3101282</td>\n",
       "      <td>7.9250</td>\n",
       "      <td>NaN</td>\n",
       "      <td>S</td>\n",
       "    </tr>\n",
       "    <tr>\n",
       "      <th>3</th>\n",
       "      <td>4</td>\n",
       "      <td>1</td>\n",
       "      <td>1</td>\n",
       "      <td>Futrelle, Mrs. Jacques Heath (Lily May Peel)</td>\n",
       "      <td>female</td>\n",
       "      <td>35.0</td>\n",
       "      <td>1</td>\n",
       "      <td>0</td>\n",
       "      <td>113803</td>\n",
       "      <td>53.1000</td>\n",
       "      <td>C123</td>\n",
       "      <td>S</td>\n",
       "    </tr>\n",
       "    <tr>\n",
       "      <th>4</th>\n",
       "      <td>5</td>\n",
       "      <td>0</td>\n",
       "      <td>3</td>\n",
       "      <td>Allen, Mr. William Henry</td>\n",
       "      <td>male</td>\n",
       "      <td>35.0</td>\n",
       "      <td>0</td>\n",
       "      <td>0</td>\n",
       "      <td>373450</td>\n",
       "      <td>8.0500</td>\n",
       "      <td>NaN</td>\n",
       "      <td>S</td>\n",
       "    </tr>\n",
       "  </tbody>\n",
       "</table>\n",
       "</div>"
      ],
      "text/plain": [
       "   Id_passageiro  Sobreviveu  Classe  \\\n",
       "0              1           0       3   \n",
       "1              2           1       1   \n",
       "2              3           1       3   \n",
       "3              4           1       1   \n",
       "4              5           0       3   \n",
       "\n",
       "                                                Nome  Genero  Idade  SibSp  \\\n",
       "0                            Braund, Mr. Owen Harris    male   22.0      1   \n",
       "1  Cumings, Mrs. John Bradley (Florence Briggs Th...  female   38.0      1   \n",
       "2                             Heikkinen, Miss. Laina  female   26.0      0   \n",
       "3       Futrelle, Mrs. Jacques Heath (Lily May Peel)  female   35.0      1   \n",
       "4                           Allen, Mr. William Henry    male   35.0      0   \n",
       "\n",
       "   Parch            Ticket   Tarifa Cabine Embarcou  \n",
       "0      0         A/5 21171   7.2500    NaN        S  \n",
       "1      0          PC 17599  71.2833    C85        C  \n",
       "2      0  STON/O2. 3101282   7.9250    NaN        S  \n",
       "3      0            113803  53.1000   C123        S  \n",
       "4      0            373450   8.0500    NaN        S  "
      ]
     },
     "execution_count": 26,
     "metadata": {},
     "output_type": "execute_result"
    }
   ],
   "source": [
    "#Visualizando com os nomes trocados\n",
    "titanic.head()"
   ]
  },
  {
   "cell_type": "code",
   "execution_count": 32,
   "id": "c94eefc2-cabe-4937-a300-59f1c9e8287f",
   "metadata": {},
   "outputs": [
    {
     "data": {
      "text/plain": [
       "Id_passageiro      0\n",
       "Sobreviveu         0\n",
       "Classe             0\n",
       "Nome               0\n",
       "Genero             0\n",
       "Idade            177\n",
       "SibSp              0\n",
       "Parch              0\n",
       "Ticket             0\n",
       "Tarifa             0\n",
       "Cabine           687\n",
       "Embarcou           2\n",
       "dtype: int64"
      ]
     },
     "execution_count": 32,
     "metadata": {},
     "output_type": "execute_result"
    }
   ],
   "source": [
    "#Descobrindo a quantidade de dados nulos\n",
    "titanic.isnull().sum()"
   ]
  },
  {
   "cell_type": "code",
   "execution_count": 40,
   "id": "662cbe15-85b1-4cfa-b0ba-12f81d8b0abb",
   "metadata": {},
   "outputs": [
    {
     "data": {
      "text/plain": [
       "2"
      ]
     },
     "execution_count": 40,
     "metadata": {},
     "output_type": "execute_result"
    }
   ],
   "source": [
    "titanic['Embarcou'].isnull().sum()"
   ]
  },
  {
   "cell_type": "code",
   "execution_count": 43,
   "id": "81373fb3-fb5e-48f2-917c-942d2660f928",
   "metadata": {},
   "outputs": [
    {
     "data": {
      "text/html": [
       "<div>\n",
       "<style scoped>\n",
       "    .dataframe tbody tr th:only-of-type {\n",
       "        vertical-align: middle;\n",
       "    }\n",
       "\n",
       "    .dataframe tbody tr th {\n",
       "        vertical-align: top;\n",
       "    }\n",
       "\n",
       "    .dataframe thead th {\n",
       "        text-align: right;\n",
       "    }\n",
       "</style>\n",
       "<table border=\"1\" class=\"dataframe\">\n",
       "  <thead>\n",
       "    <tr style=\"text-align: right;\">\n",
       "      <th></th>\n",
       "      <th>Id_passageiro</th>\n",
       "      <th>Sobreviveu</th>\n",
       "      <th>Classe</th>\n",
       "      <th>Nome</th>\n",
       "      <th>Genero</th>\n",
       "      <th>Idade</th>\n",
       "      <th>SibSp</th>\n",
       "      <th>Parch</th>\n",
       "      <th>Ticket</th>\n",
       "      <th>Tarifa</th>\n",
       "      <th>Cabine</th>\n",
       "      <th>Embarcou</th>\n",
       "    </tr>\n",
       "  </thead>\n",
       "  <tbody>\n",
       "    <tr>\n",
       "      <th>61</th>\n",
       "      <td>62</td>\n",
       "      <td>1</td>\n",
       "      <td>1</td>\n",
       "      <td>Icard, Miss. Amelie</td>\n",
       "      <td>female</td>\n",
       "      <td>38.0</td>\n",
       "      <td>0</td>\n",
       "      <td>0</td>\n",
       "      <td>113572</td>\n",
       "      <td>80.0</td>\n",
       "      <td>B28</td>\n",
       "      <td>NaN</td>\n",
       "    </tr>\n",
       "    <tr>\n",
       "      <th>829</th>\n",
       "      <td>830</td>\n",
       "      <td>1</td>\n",
       "      <td>1</td>\n",
       "      <td>Stone, Mrs. George Nelson (Martha Evelyn)</td>\n",
       "      <td>female</td>\n",
       "      <td>62.0</td>\n",
       "      <td>0</td>\n",
       "      <td>0</td>\n",
       "      <td>113572</td>\n",
       "      <td>80.0</td>\n",
       "      <td>B28</td>\n",
       "      <td>NaN</td>\n",
       "    </tr>\n",
       "  </tbody>\n",
       "</table>\n",
       "</div>"
      ],
      "text/plain": [
       "     Id_passageiro  Sobreviveu  Classe  \\\n",
       "61              62           1       1   \n",
       "829            830           1       1   \n",
       "\n",
       "                                          Nome  Genero  Idade  SibSp  Parch  \\\n",
       "61                         Icard, Miss. Amelie  female   38.0      0      0   \n",
       "829  Stone, Mrs. George Nelson (Martha Evelyn)  female   62.0      0      0   \n",
       "\n",
       "     Ticket  Tarifa Cabine Embarcou  \n",
       "61   113572    80.0    B28      NaN  \n",
       "829  113572    80.0    B28      NaN  "
      ]
     },
     "execution_count": 43,
     "metadata": {},
     "output_type": "execute_result"
    }
   ],
   "source": [
    "# Mostrando quais são os dados nulos de embarcou\n",
    "titanic[titanic.Embarcou.isnull()]"
   ]
  },
  {
   "cell_type": "code",
   "execution_count": 55,
   "id": "a3714077-0a06-438a-9a30-9421b7dd65c9",
   "metadata": {},
   "outputs": [],
   "source": [
    "# Foi pesquisado que os dois passageiros emnarcaram, então substitui os nulos por S\n",
    "titanic['Embarcou'] = titanic['Embarcou'].fillna('S')"
   ]
  },
  {
   "cell_type": "code",
   "execution_count": 51,
   "id": "ef795e2e-8f3e-4061-beb9-79f5fcf29d73",
   "metadata": {},
   "outputs": [
    {
     "data": {
      "text/html": [
       "<div>\n",
       "<style scoped>\n",
       "    .dataframe tbody tr th:only-of-type {\n",
       "        vertical-align: middle;\n",
       "    }\n",
       "\n",
       "    .dataframe tbody tr th {\n",
       "        vertical-align: top;\n",
       "    }\n",
       "\n",
       "    .dataframe thead th {\n",
       "        text-align: right;\n",
       "    }\n",
       "</style>\n",
       "<table border=\"1\" class=\"dataframe\">\n",
       "  <thead>\n",
       "    <tr style=\"text-align: right;\">\n",
       "      <th></th>\n",
       "      <th>Id_passageiro</th>\n",
       "      <th>Sobreviveu</th>\n",
       "      <th>Classe</th>\n",
       "      <th>Nome</th>\n",
       "      <th>Genero</th>\n",
       "      <th>Idade</th>\n",
       "      <th>SibSp</th>\n",
       "      <th>Parch</th>\n",
       "      <th>Ticket</th>\n",
       "      <th>Tarifa</th>\n",
       "      <th>Cabine</th>\n",
       "      <th>Embarcou</th>\n",
       "    </tr>\n",
       "  </thead>\n",
       "  <tbody>\n",
       "  </tbody>\n",
       "</table>\n",
       "</div>"
      ],
      "text/plain": [
       "Empty DataFrame\n",
       "Columns: [Id_passageiro, Sobreviveu, Classe, Nome, Genero, Idade, SibSp, Parch, Ticket, Tarifa, Cabine, Embarcou]\n",
       "Index: []"
      ]
     },
     "execution_count": 51,
     "metadata": {},
     "output_type": "execute_result"
    }
   ],
   "source": [
    "titanic[titanic.Embarcou.isnull()]"
   ]
  },
  {
   "cell_type": "code",
   "execution_count": 53,
   "id": "caf7872d-3c1d-4e17-9abd-d5053bb041e8",
   "metadata": {},
   "outputs": [
    {
     "data": {
      "text/plain": [
       "Id_passageiro      0\n",
       "Sobreviveu         0\n",
       "Classe             0\n",
       "Nome               0\n",
       "Genero             0\n",
       "Idade            177\n",
       "SibSp              0\n",
       "Parch              0\n",
       "Ticket             0\n",
       "Tarifa             0\n",
       "Cabine           687\n",
       "Embarcou           0\n",
       "dtype: int64"
      ]
     },
     "execution_count": 53,
     "metadata": {},
     "output_type": "execute_result"
    }
   ],
   "source": [
    "titanic.isnull().sum()"
   ]
  },
  {
   "cell_type": "code",
   "execution_count": 63,
   "id": "00a25021-5e3a-4e86-9b8f-6426c650987b",
   "metadata": {},
   "outputs": [
    {
     "data": {
      "image/png": "[encoded data removed]",
      "text/plain": [
       "<Figure size 640x480 with 1 Axes>"
      ]
     },
     "metadata": {},
     "output_type": "display_data"
    }
   ],
   "source": [
    "#Analisando a idade a partir de gráficos\n",
    "titanic.Idade.plot.box();"
   ]
  },
  {
   "cell_type": "code",
   "execution_count": 69,
   "id": "1457086e-b694-4a62-984b-2c0337a0d2cd",
   "metadata": {},
   "outputs": [
    {
     "data": {
      "image/png": "[encoded data removed]",
      "text/plain": [
       "<Figure size 640x480 with 1 Axes>"
      ]
     },
     "metadata": {},
     "output_type": "display_data"
    }
   ],
   "source": [
    "titanic.Idade.plot.hist();"
   ]
  },
  {
   "cell_type": "code",
   "execution_count": 75,
   "id": "f303c922-12bf-4385-8852-910419a4a268",
   "metadata": {},
   "outputs": [
    {
     "data": {
      "text/plain": [
       "Classe  Genero\n",
       "1       female    35.0\n",
       "        male      40.0\n",
       "2       female    28.0\n",
       "        male      30.0\n",
       "3       female    21.5\n",
       "        male      25.0\n",
       "Name: Idade, dtype: float64"
      ]
     },
     "execution_count": 75,
     "metadata": {},
     "output_type": "execute_result"
    }
   ],
   "source": [
    "# Tirando a mediana das idades agrupado por classe e gênero\n",
    "titanic.groupby(['Classe', 'Genero'])['Idade'].median()"
   ]
  },
  {
   "cell_type": "code",
   "execution_count": 81,
   "id": "c82e65d0-4a07-4006-8ac0-db0ddda156ed",
   "metadata": {},
   "outputs": [],
   "source": [
    "# Transformando idades nulas na mediana, sem afetar as idades ja existentes\n",
    "titanic['Idade'] = titanic.Idade.fillna(titanic.groupby(['Classe', 'Genero'])['Idade'].transform('median'))"
   ]
  },
  {
   "cell_type": "code",
   "execution_count": 91,
   "id": "b92fbd07-b85a-4ac6-8d15-8dab87ea40cc",
   "metadata": {},
   "outputs": [
    {
     "data": {
      "text/html": [
       "<div>\n",
       "<style scoped>\n",
       "    .dataframe tbody tr th:only-of-type {\n",
       "        vertical-align: middle;\n",
       "    }\n",
       "\n",
       "    .dataframe tbody tr th {\n",
       "        vertical-align: top;\n",
       "    }\n",
       "\n",
       "    .dataframe thead th {\n",
       "        text-align: right;\n",
       "    }\n",
       "</style>\n",
       "<table border=\"1\" class=\"dataframe\">\n",
       "  <thead>\n",
       "    <tr style=\"text-align: right;\">\n",
       "      <th></th>\n",
       "      <th>Id_passageiro</th>\n",
       "      <th>Sobreviveu</th>\n",
       "      <th>Classe</th>\n",
       "      <th>Nome</th>\n",
       "      <th>Genero</th>\n",
       "      <th>Idade</th>\n",
       "      <th>SibSp</th>\n",
       "      <th>Parch</th>\n",
       "      <th>Ticket</th>\n",
       "      <th>Tarifa</th>\n",
       "      <th>Cabine</th>\n",
       "      <th>Embarcou</th>\n",
       "      <th>idade</th>\n",
       "    </tr>\n",
       "  </thead>\n",
       "  <tbody>\n",
       "  </tbody>\n",
       "</table>\n",
       "</div>"
      ],
      "text/plain": [
       "Empty DataFrame\n",
       "Columns: [Id_passageiro, Sobreviveu, Classe, Nome, Genero, Idade, SibSp, Parch, Ticket, Tarifa, Cabine, Embarcou, idade]\n",
       "Index: []"
      ]
     },
     "execution_count": 91,
     "metadata": {},
     "output_type": "execute_result"
    }
   ],
   "source": [
    "# Verificando\n",
    "titanic[titanic.Idade.isnull()]"
   ]
  },
  {
   "cell_type": "code",
   "execution_count": 89,
   "id": "827c1ee7-cfab-454e-a5a8-648a1680a339",
   "metadata": {},
   "outputs": [
    {
     "data": {
      "text/plain": [
       "Id_passageiro      0\n",
       "Sobreviveu         0\n",
       "Classe             0\n",
       "Nome               0\n",
       "Genero             0\n",
       "Idade              0\n",
       "SibSp              0\n",
       "Parch              0\n",
       "Ticket             0\n",
       "Tarifa             0\n",
       "Cabine           687\n",
       "Embarcou           0\n",
       "idade              0\n",
       "dtype: int64"
      ]
     },
     "execution_count": 89,
     "metadata": {},
     "output_type": "execute_result"
    }
   ],
   "source": [
    "titanic.isnull().sum()"
   ]
  },
  {
   "cell_type": "code",
   "execution_count": 95,
   "id": "8f9a0c22-f5e7-4468-a42f-00bbb3eef92f",
   "metadata": {},
   "outputs": [],
   "source": [
    "# Trocando o 0 e 1 por não e sim, para os dados ficarem mais intuitivos de serem visualizados\n",
    "titanic.loc[titanic['Sobreviveu'] == 0, 'Sobreviveu'] = 'Não'\n",
    "titanic.loc[titanic['Sobreviveu'] == 1, 'Sobreviveu'] = 'Sim'"
   ]
  },
  {
   "cell_type": "code",
   "execution_count": 103,
   "id": "fab2e4d4-544d-474a-a70d-ae3648e1cd58",
   "metadata": {},
   "outputs": [
    {
     "data": {
      "text/plain": [
       "0      Não\n",
       "1      Sim\n",
       "2      Sim\n",
       "3      Sim\n",
       "4      Não\n",
       "      ... \n",
       "886    Não\n",
       "887    Sim\n",
       "888    Não\n",
       "889    Sim\n",
       "890    Não\n",
       "Name: Sobreviveu, Length: 891, dtype: object"
      ]
     },
     "execution_count": 103,
     "metadata": {},
     "output_type": "execute_result"
    }
   ],
   "source": [
    "titanic['Sobreviveu']"
   ]
  },
  {
   "cell_type": "code",
   "execution_count": 105,
   "id": "b267344e-8d2d-4316-84b0-4fcd63997885",
   "metadata": {},
   "outputs": [
    {
     "data": {
      "text/plain": [
       "Sobreviveu\n",
       "Não    549\n",
       "Sim    342\n",
       "Name: count, dtype: int64"
      ]
     },
     "execution_count": 105,
     "metadata": {},
     "output_type": "execute_result"
    }
   ],
   "source": [
    "titanic['Sobreviveu'].value_counts()"
   ]
  },
  {
   "cell_type": "code",
   "execution_count": 120,
   "id": "7ff06946-0025-4e03-8771-0a32ba2e473e",
   "metadata": {},
   "outputs": [
    {
     "data": {
      "text/plain": [
       "Ticket\n",
       "347082      7\n",
       "CA. 2343    7\n",
       "1601        7\n",
       "3101295     6\n",
       "CA 2144     6\n",
       "           ..\n",
       "9234        1\n",
       "19988       1\n",
       "2693        1\n",
       "PC 17612    1\n",
       "370376      1\n",
       "Name: count, Length: 681, dtype: int64"
      ]
     },
     "execution_count": 120,
     "metadata": {},
     "output_type": "execute_result"
    }
   ],
   "source": [
    "# Observando que Ticket tem muitos valores diferentes\n",
    "titanic['Ticket'].value_counts()"
   ]
  },
  {
   "cell_type": "code",
   "execution_count": 122,
   "id": "fbb7039c-04d4-4dfb-a8af-4192c46871ae",
   "metadata": {},
   "outputs": [
    {
     "data": {
      "text/html": [
       "<div>\n",
       "<style scoped>\n",
       "    .dataframe tbody tr th:only-of-type {\n",
       "        vertical-align: middle;\n",
       "    }\n",
       "\n",
       "    .dataframe tbody tr th {\n",
       "        vertical-align: top;\n",
       "    }\n",
       "\n",
       "    .dataframe thead th {\n",
       "        text-align: right;\n",
       "    }\n",
       "</style>\n",
       "<table border=\"1\" class=\"dataframe\">\n",
       "  <thead>\n",
       "    <tr style=\"text-align: right;\">\n",
       "      <th></th>\n",
       "      <th>Id_passageiro</th>\n",
       "      <th>Classe</th>\n",
       "      <th>Idade</th>\n",
       "      <th>SibSp</th>\n",
       "      <th>Parch</th>\n",
       "      <th>Tarifa</th>\n",
       "      <th>idade</th>\n",
       "    </tr>\n",
       "  </thead>\n",
       "  <tbody>\n",
       "    <tr>\n",
       "      <th>count</th>\n",
       "      <td>891.000000</td>\n",
       "      <td>891.000000</td>\n",
       "      <td>891.000000</td>\n",
       "      <td>891.000000</td>\n",
       "      <td>891.000000</td>\n",
       "      <td>891.000000</td>\n",
       "      <td>891.000000</td>\n",
       "    </tr>\n",
       "    <tr>\n",
       "      <th>mean</th>\n",
       "      <td>446.000000</td>\n",
       "      <td>2.308642</td>\n",
       "      <td>29.112424</td>\n",
       "      <td>0.523008</td>\n",
       "      <td>0.381594</td>\n",
       "      <td>32.204208</td>\n",
       "      <td>29.112424</td>\n",
       "    </tr>\n",
       "    <tr>\n",
       "      <th>std</th>\n",
       "      <td>257.353842</td>\n",
       "      <td>0.836071</td>\n",
       "      <td>13.304424</td>\n",
       "      <td>1.102743</td>\n",
       "      <td>0.806057</td>\n",
       "      <td>49.693429</td>\n",
       "      <td>13.304424</td>\n",
       "    </tr>\n",
       "    <tr>\n",
       "      <th>min</th>\n",
       "      <td>1.000000</td>\n",
       "      <td>1.000000</td>\n",
       "      <td>0.420000</td>\n",
       "      <td>0.000000</td>\n",
       "      <td>0.000000</td>\n",
       "      <td>0.000000</td>\n",
       "      <td>0.420000</td>\n",
       "    </tr>\n",
       "    <tr>\n",
       "      <th>25%</th>\n",
       "      <td>223.500000</td>\n",
       "      <td>2.000000</td>\n",
       "      <td>21.500000</td>\n",
       "      <td>0.000000</td>\n",
       "      <td>0.000000</td>\n",
       "      <td>7.910400</td>\n",
       "      <td>21.500000</td>\n",
       "    </tr>\n",
       "    <tr>\n",
       "      <th>50%</th>\n",
       "      <td>446.000000</td>\n",
       "      <td>3.000000</td>\n",
       "      <td>26.000000</td>\n",
       "      <td>0.000000</td>\n",
       "      <td>0.000000</td>\n",
       "      <td>14.454200</td>\n",
       "      <td>26.000000</td>\n",
       "    </tr>\n",
       "    <tr>\n",
       "      <th>75%</th>\n",
       "      <td>668.500000</td>\n",
       "      <td>3.000000</td>\n",
       "      <td>36.000000</td>\n",
       "      <td>1.000000</td>\n",
       "      <td>0.000000</td>\n",
       "      <td>31.000000</td>\n",
       "      <td>36.000000</td>\n",
       "    </tr>\n",
       "    <tr>\n",
       "      <th>max</th>\n",
       "      <td>891.000000</td>\n",
       "      <td>3.000000</td>\n",
       "      <td>80.000000</td>\n",
       "      <td>8.000000</td>\n",
       "      <td>6.000000</td>\n",
       "      <td>512.329200</td>\n",
       "      <td>80.000000</td>\n",
       "    </tr>\n",
       "  </tbody>\n",
       "</table>\n",
       "</div>"
      ],
      "text/plain": [
       "       Id_passageiro      Classe       Idade       SibSp       Parch  \\\n",
       "count     891.000000  891.000000  891.000000  891.000000  891.000000   \n",
       "mean      446.000000    2.308642   29.112424    0.523008    0.381594   \n",
       "std       257.353842    0.836071   13.304424    1.102743    0.806057   \n",
       "min         1.000000    1.000000    0.420000    0.000000    0.000000   \n",
       "25%       223.500000    2.000000   21.500000    0.000000    0.000000   \n",
       "50%       446.000000    3.000000   26.000000    0.000000    0.000000   \n",
       "75%       668.500000    3.000000   36.000000    1.000000    0.000000   \n",
       "max       891.000000    3.000000   80.000000    8.000000    6.000000   \n",
       "\n",
       "           Tarifa       idade  \n",
       "count  891.000000  891.000000  \n",
       "mean    32.204208   29.112424  \n",
       "std     49.693429   13.304424  \n",
       "min      0.000000    0.420000  \n",
       "25%      7.910400   21.500000  \n",
       "50%     14.454200   26.000000  \n",
       "75%     31.000000   36.000000  \n",
       "max    512.329200   80.000000  "
      ]
     },
     "execution_count": 122,
     "metadata": {},
     "output_type": "execute_result"
    }
   ],
   "source": [
    "titanic.describe()"
   ]
  },
  {
   "cell_type": "code",
   "execution_count": 124,
   "id": "b9e05143-7786-4f9c-a6ef-184e34962f84",
   "metadata": {},
   "outputs": [
    {
     "data": {
      "text/html": [
       "<div>\n",
       "<style scoped>\n",
       "    .dataframe tbody tr th:only-of-type {\n",
       "        vertical-align: middle;\n",
       "    }\n",
       "\n",
       "    .dataframe tbody tr th {\n",
       "        vertical-align: top;\n",
       "    }\n",
       "\n",
       "    .dataframe thead th {\n",
       "        text-align: right;\n",
       "    }\n",
       "</style>\n",
       "<table border=\"1\" class=\"dataframe\">\n",
       "  <thead>\n",
       "    <tr style=\"text-align: right;\">\n",
       "      <th></th>\n",
       "      <th>Id_passageiro</th>\n",
       "      <th>Sobreviveu</th>\n",
       "      <th>Classe</th>\n",
       "      <th>Nome</th>\n",
       "      <th>Genero</th>\n",
       "      <th>Idade</th>\n",
       "      <th>SibSp</th>\n",
       "      <th>Parch</th>\n",
       "      <th>Ticket</th>\n",
       "      <th>Tarifa</th>\n",
       "      <th>Cabine</th>\n",
       "      <th>Embarcou</th>\n",
       "      <th>idade</th>\n",
       "    </tr>\n",
       "  </thead>\n",
       "  <tbody>\n",
       "    <tr>\n",
       "      <th>258</th>\n",
       "      <td>259</td>\n",
       "      <td>Sim</td>\n",
       "      <td>1</td>\n",
       "      <td>Ward, Miss. Anna</td>\n",
       "      <td>female</td>\n",
       "      <td>35.0</td>\n",
       "      <td>0</td>\n",
       "      <td>0</td>\n",
       "      <td>PC 17755</td>\n",
       "      <td>512.3292</td>\n",
       "      <td>NaN</td>\n",
       "      <td>C</td>\n",
       "      <td>35.0</td>\n",
       "    </tr>\n",
       "    <tr>\n",
       "      <th>679</th>\n",
       "      <td>680</td>\n",
       "      <td>Sim</td>\n",
       "      <td>1</td>\n",
       "      <td>Cardeza, Mr. Thomas Drake Martinez</td>\n",
       "      <td>male</td>\n",
       "      <td>36.0</td>\n",
       "      <td>0</td>\n",
       "      <td>1</td>\n",
       "      <td>PC 17755</td>\n",
       "      <td>512.3292</td>\n",
       "      <td>B51 B53 B55</td>\n",
       "      <td>C</td>\n",
       "      <td>36.0</td>\n",
       "    </tr>\n",
       "    <tr>\n",
       "      <th>737</th>\n",
       "      <td>738</td>\n",
       "      <td>Sim</td>\n",
       "      <td>1</td>\n",
       "      <td>Lesurer, Mr. Gustave J</td>\n",
       "      <td>male</td>\n",
       "      <td>35.0</td>\n",
       "      <td>0</td>\n",
       "      <td>0</td>\n",
       "      <td>PC 17755</td>\n",
       "      <td>512.3292</td>\n",
       "      <td>B101</td>\n",
       "      <td>C</td>\n",
       "      <td>35.0</td>\n",
       "    </tr>\n",
       "  </tbody>\n",
       "</table>\n",
       "</div>"
      ],
      "text/plain": [
       "     Id_passageiro Sobreviveu  Classe                                Nome  \\\n",
       "258            259        Sim       1                    Ward, Miss. Anna   \n",
       "679            680        Sim       1  Cardeza, Mr. Thomas Drake Martinez   \n",
       "737            738        Sim       1              Lesurer, Mr. Gustave J   \n",
       "\n",
       "     Genero  Idade  SibSp  Parch    Ticket    Tarifa       Cabine Embarcou  \\\n",
       "258  female   35.0      0      0  PC 17755  512.3292          NaN        C   \n",
       "679    male   36.0      0      1  PC 17755  512.3292  B51 B53 B55        C   \n",
       "737    male   35.0      0      0  PC 17755  512.3292         B101        C   \n",
       "\n",
       "     idade  \n",
       "258   35.0  \n",
       "679   36.0  \n",
       "737   35.0  "
      ]
     },
     "execution_count": 124,
     "metadata": {},
     "output_type": "execute_result"
    }
   ],
   "source": [
    "# Observando que tem tarifas muito altas em relação a média, mas nada fora do nomal\n",
    "titanic[titanic.Tarifa == titanic.Tarifa.max()]"
   ]
  },
  {
   "cell_type": "code",
   "execution_count": 136,
   "id": "8ea75152-14ed-44b3-b2eb-696bebbced11",
   "metadata": {},
   "outputs": [
    {
     "data": {
      "text/plain": [
       "Id_passageiro    891\n",
       "Sobreviveu         2\n",
       "Classe             3\n",
       "Nome             891\n",
       "Genero             2\n",
       "Idade             89\n",
       "SibSp              7\n",
       "Parch              7\n",
       "Ticket           681\n",
       "Tarifa           248\n",
       "Cabine           147\n",
       "Embarcou           3\n",
       "dtype: int64"
      ]
     },
     "execution_count": 136,
     "metadata": {},
     "output_type": "execute_result"
    }
   ],
   "source": [
    "# Observando dados sem muita relevância\n",
    "titanic.nunique()"
   ]
  },
  {
   "cell_type": "code",
   "execution_count": 138,
   "id": "186b7b01-a1f0-4aad-925e-6fd32cffd47d",
   "metadata": {},
   "outputs": [],
   "source": [
    "# Excluindo tabelas sem relevância\n",
    "titanic = titanic.drop(['Id_passageiro', 'Ticket'],axis=1)"
   ]
  },
  {
   "cell_type": "code",
   "execution_count": 140,
   "id": "e37632dc-acdf-46f4-8559-a83a76b3e011",
   "metadata": {},
   "outputs": [
    {
     "data": {
      "text/html": [
       "<div>\n",
       "<style scoped>\n",
       "    .dataframe tbody tr th:only-of-type {\n",
       "        vertical-align: middle;\n",
       "    }\n",
       "\n",
       "    .dataframe tbody tr th {\n",
       "        vertical-align: top;\n",
       "    }\n",
       "\n",
       "    .dataframe thead th {\n",
       "        text-align: right;\n",
       "    }\n",
       "</style>\n",
       "<table border=\"1\" class=\"dataframe\">\n",
       "  <thead>\n",
       "    <tr style=\"text-align: right;\">\n",
       "      <th></th>\n",
       "      <th>Sobreviveu</th>\n",
       "      <th>Classe</th>\n",
       "      <th>Nome</th>\n",
       "      <th>Genero</th>\n",
       "      <th>Idade</th>\n",
       "      <th>SibSp</th>\n",
       "      <th>Parch</th>\n",
       "      <th>Tarifa</th>\n",
       "      <th>Cabine</th>\n",
       "      <th>Embarcou</th>\n",
       "    </tr>\n",
       "  </thead>\n",
       "  <tbody>\n",
       "    <tr>\n",
       "      <th>0</th>\n",
       "      <td>Não</td>\n",
       "      <td>3</td>\n",
       "      <td>Braund, Mr. Owen Harris</td>\n",
       "      <td>male</td>\n",
       "      <td>22.0</td>\n",
       "      <td>1</td>\n",
       "      <td>0</td>\n",
       "      <td>7.2500</td>\n",
       "      <td>NaN</td>\n",
       "      <td>S</td>\n",
       "    </tr>\n",
       "    <tr>\n",
       "      <th>1</th>\n",
       "      <td>Sim</td>\n",
       "      <td>1</td>\n",
       "      <td>Cumings, Mrs. John Bradley (Florence Briggs Th...</td>\n",
       "      <td>female</td>\n",
       "      <td>38.0</td>\n",
       "      <td>1</td>\n",
       "      <td>0</td>\n",
       "      <td>71.2833</td>\n",
       "      <td>C85</td>\n",
       "      <td>C</td>\n",
       "    </tr>\n",
       "    <tr>\n",
       "      <th>2</th>\n",
       "      <td>Sim</td>\n",
       "      <td>3</td>\n",
       "      <td>Heikkinen, Miss. Laina</td>\n",
       "      <td>female</td>\n",
       "      <td>26.0</td>\n",
       "      <td>0</td>\n",
       "      <td>0</td>\n",
       "      <td>7.9250</td>\n",
       "      <td>NaN</td>\n",
       "      <td>S</td>\n",
       "    </tr>\n",
       "    <tr>\n",
       "      <th>3</th>\n",
       "      <td>Sim</td>\n",
       "      <td>1</td>\n",
       "      <td>Futrelle, Mrs. Jacques Heath (Lily May Peel)</td>\n",
       "      <td>female</td>\n",
       "      <td>35.0</td>\n",
       "      <td>1</td>\n",
       "      <td>0</td>\n",
       "      <td>53.1000</td>\n",
       "      <td>C123</td>\n",
       "      <td>S</td>\n",
       "    </tr>\n",
       "    <tr>\n",
       "      <th>4</th>\n",
       "      <td>Não</td>\n",
       "      <td>3</td>\n",
       "      <td>Allen, Mr. William Henry</td>\n",
       "      <td>male</td>\n",
       "      <td>35.0</td>\n",
       "      <td>0</td>\n",
       "      <td>0</td>\n",
       "      <td>8.0500</td>\n",
       "      <td>NaN</td>\n",
       "      <td>S</td>\n",
       "    </tr>\n",
       "  </tbody>\n",
       "</table>\n",
       "</div>"
      ],
      "text/plain": [
       "  Sobreviveu  Classe                                               Nome  \\\n",
       "0        Não       3                            Braund, Mr. Owen Harris   \n",
       "1        Sim       1  Cumings, Mrs. John Bradley (Florence Briggs Th...   \n",
       "2        Sim       3                             Heikkinen, Miss. Laina   \n",
       "3        Sim       1       Futrelle, Mrs. Jacques Heath (Lily May Peel)   \n",
       "4        Não       3                           Allen, Mr. William Henry   \n",
       "\n",
       "   Genero  Idade  SibSp  Parch   Tarifa Cabine Embarcou  \n",
       "0    male   22.0      1      0   7.2500    NaN        S  \n",
       "1  female   38.0      1      0  71.2833    C85        C  \n",
       "2  female   26.0      0      0   7.9250    NaN        S  \n",
       "3  female   35.0      1      0  53.1000   C123        S  \n",
       "4    male   35.0      0      0   8.0500    NaN        S  "
      ]
     },
     "execution_count": 140,
     "metadata": {},
     "output_type": "execute_result"
    }
   ],
   "source": [
    "# Exibindo os dados limpos e tratados\n",
    "titanic.head()"
   ]
  },
  {
   "cell_type": "code",
   "execution_count": 142,
   "id": "b8dedfd4-f4e2-4acd-97d7-2ff2f2e048e2",
   "metadata": {},
   "outputs": [
    {
     "data": {
      "text/plain": [
       "<bound method DataFrame.info of     Sobreviveu  Classe                                               Nome  \\\n",
       "0          Não       3                            Braund, Mr. Owen Harris   \n",
       "1          Sim       1  Cumings, Mrs. John Bradley (Florence Briggs Th...   \n",
       "2          Sim       3                             Heikkinen, Miss. Laina   \n",
       "3          Sim       1       Futrelle, Mrs. Jacques Heath (Lily May Peel)   \n",
       "4          Não       3                           Allen, Mr. William Henry   \n",
       "..         ...     ...                                                ...   \n",
       "886        Não       2                              Montvila, Rev. Juozas   \n",
       "887        Sim       1                       Graham, Miss. Margaret Edith   \n",
       "888        Não       3           Johnston, Miss. Catherine Helen \"Carrie\"   \n",
       "889        Sim       1                              Behr, Mr. Karl Howell   \n",
       "890        Não       3                                Dooley, Mr. Patrick   \n",
       "\n",
       "     Genero  Idade  SibSp  Parch   Tarifa Cabine Embarcou  \n",
       "0      male   22.0      1      0   7.2500    NaN        S  \n",
       "1    female   38.0      1      0  71.2833    C85        C  \n",
       "2    female   26.0      0      0   7.9250    NaN        S  \n",
       "3    female   35.0      1      0  53.1000   C123        S  \n",
       "4      male   35.0      0      0   8.0500    NaN        S  \n",
       "..      ...    ...    ...    ...      ...    ...      ...  \n",
       "886    male   27.0      0      0  13.0000    NaN        S  \n",
       "887  female   19.0      0      0  30.0000    B42        S  \n",
       "888  female   21.5      1      2  23.4500    NaN        S  \n",
       "889    male   26.0      0      0  30.0000   C148        C  \n",
       "890    male   32.0      0      0   7.7500    NaN        Q  \n",
       "\n",
       "[891 rows x 10 columns]>"
      ]
     },
     "execution_count": 142,
     "metadata": {},
     "output_type": "execute_result"
    }
   ],
   "source": [
    "titanic.info"
   ]
  },
  {
   "cell_type": "code",
   "execution_count": null,
   "id": "778afd4a-ea11-41a4-afb2-bf4abbf59cf9",
   "metadata": {},
   "outputs": [],
   "source": []
  }
 ],
 "metadata": {
  "kernelspec": {
   "display_name": "Python [conda env:base] *",
   "language": "python",
   "name": "conda-base-py"
  },
  "language_info": {
   "codemirror_mode": {
    "name": "ipython",
    "version": 3
   },
   "file_extension": ".py",
   "mimetype": "text/x-python",
   "name": "python",
   "nbconvert_exporter": "python",
   "pygments_lexer": "ipython3",
   "version": "3.12.7"
  }
 },
 "nbformat": 4,
 "nbformat_minor": 5
}
